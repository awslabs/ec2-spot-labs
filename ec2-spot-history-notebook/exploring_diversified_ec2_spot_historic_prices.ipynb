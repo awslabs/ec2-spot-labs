{
 "cells": [
  {
   "cell_type": "markdown",
   "metadata": {},
   "source": [
    "# EC2 Spot diversification and price history\n",
    "\n",
    "* **Author:** Carlos Manzanedo Rueda <ruecarlo@amazon.com>\n",
    "* **License:** This notebook is released under [Apache v2.0 License](https://www.apache.org/licenses/LICENSE-2.0.txt)\n",
    "\n",
    "\n",
    "This jupyter notebook uses pandas and matplotlib to plot EC2 Spot historic price changes for comparison across different regions, family and instance sizes. \n",
    "\n",
    "The code is intended as an example of how to explore EC2 Spot historic prices. Perhaps it's obvious, but please note that historic EC2 price does not define future spot market behaviours!\n",
    "\n",
    "When constructing a strong and EC2 Fleet, Spot Fleet or Auto Scaling Groups two of the main best practices are: (a) flexibility and (b) diversification. This jupyter notebook allows to visualise changes in the EC2 Spot historic price across regions and instance types. History goes back 3 months (EC2 Spot history API limit). This notebook intends to convey an intuition of why implementing diversification is so important with EC2 Spot as well as helping to compare different instance types and families across regions."
   ]
  },
  {
   "cell_type": "code",
   "execution_count": 3,
   "metadata": {},
   "outputs": [
    {
     "name": "stdout",
     "output_type": "stream",
     "text": [
      "Solving environment: done\n",
      "\n",
      "\n",
      "==> WARNING: A newer version of conda exists. <==\n",
      "  current version: 4.5.12\n",
      "  latest version: 4.8.1\n",
      "\n",
      "Please update conda by running\n",
      "\n",
      "    $ conda update -n base -c defaults conda\n",
      "\n",
      "\n",
      "\n",
      "## Package Plan ##\n",
      "\n",
      "  environment location: /home/ec2-user/anaconda3/envs/amazonei_tensorflow_p36\n",
      "\n",
      "  added / updated specs: \n",
      "    - tqdm\n",
      "\n",
      "\n",
      "The following packages will be downloaded:\n",
      "\n",
      "    package                    |            build\n",
      "    ---------------------------|-----------------\n",
      "    openssl-1.0.2u             |       h7b6447c_0         3.1 MB\n",
      "    tqdm-4.42.0                |             py_0          56 KB\n",
      "    certifi-2019.11.28         |           py36_0         156 KB\n",
      "    ca-certificates-2020.1.1   |                0         132 KB\n",
      "    ------------------------------------------------------------\n",
      "                                           Total:         3.5 MB\n",
      "\n",
      "The following NEW packages will be INSTALLED:\n",
      "\n",
      "    tqdm:            4.42.0-py_0      \n",
      "\n",
      "The following packages will be UPDATED:\n",
      "\n",
      "    ca-certificates: 2019.10.16-0      --> 2020.1.1-0       \n",
      "    certifi:         2019.9.11-py36_0  --> 2019.11.28-py36_0\n",
      "    openssl:         1.0.2t-h7b6447c_1 --> 1.0.2u-h7b6447c_0\n",
      "\n",
      "\n",
      "Downloading and Extracting Packages\n",
      "openssl-1.0.2u       | 3.1 MB    | ##################################### | 100% \n",
      "tqdm-4.42.0          | 56 KB     | ##################################### | 100% \n",
      "certifi-2019.11.28   | 156 KB    | ##################################### | 100% \n",
      "ca-certificates-2020 | 132 KB    | ##################################### | 100% \n",
      "Preparing transaction: done\n",
      "Verifying transaction: done\n",
      "Executing transaction: done\n"
     ]
    }
   ],
   "source": [
    "!conda install -y tqdm"
   ]
  },
  {
   "cell_type": "code",
   "execution_count": 8,
   "metadata": {},
   "outputs": [
    {
     "name": "stdout",
     "output_type": "stream",
     "text": [
      "Collecting boto3\n",
      "\u001b[?25l  Downloading https://files.pythonhosted.org/packages/d5/57/e9675a5a8d0ee586594ff19cb9a601334fbf24fa2fb29052d2a900ee5d23/boto3-1.11.9-py2.py3-none-any.whl (128kB)\n",
      "\u001b[K    100% |████████████████████████████████| 133kB 26.7MB/s ta 0:00:01\n",
      "\u001b[?25hCollecting pip\n",
      "\u001b[?25l  Downloading https://files.pythonhosted.org/packages/54/0c/d01aa759fdc501a58f431eb594a17495f15b88da142ce14b5845662c13f3/pip-20.0.2-py2.py3-none-any.whl (1.4MB)\n",
      "\u001b[K    100% |████████████████████████████████| 1.4MB 20.8MB/s ta 0:00:01\n",
      "\u001b[?25hCollecting botocore<1.15.0,>=1.14.9 (from boto3)\n",
      "\u001b[?25l  Downloading https://files.pythonhosted.org/packages/64/4c/b0b0d3b6f84a05f9135051b56d3eb8708012a289c4b82ee21c8c766f47b5/botocore-1.14.9-py2.py3-none-any.whl (5.9MB)\n",
      "\u001b[K    100% |████████████████████████████████| 5.9MB 8.2MB/s eta 0:00:01\n",
      "\u001b[?25hRequirement not upgraded as not directly required: s3transfer<0.4.0,>=0.3.0 in /home/ec2-user/anaconda3/envs/amazonei_tensorflow_p36/lib/python3.6/site-packages (from boto3) (0.3.1)\n",
      "Requirement not upgraded as not directly required: jmespath<1.0.0,>=0.7.1 in /home/ec2-user/anaconda3/envs/amazonei_tensorflow_p36/lib/python3.6/site-packages (from boto3) (0.9.4)\n",
      "Requirement not upgraded as not directly required: urllib3<1.26,>=1.20 in /home/ec2-user/anaconda3/envs/amazonei_tensorflow_p36/lib/python3.6/site-packages (from botocore<1.15.0,>=1.14.9->boto3) (1.23)\n",
      "Requirement not upgraded as not directly required: python-dateutil<3.0.0,>=2.1 in /home/ec2-user/anaconda3/envs/amazonei_tensorflow_p36/lib/python3.6/site-packages (from botocore<1.15.0,>=1.14.9->boto3) (2.7.3)\n",
      "Requirement not upgraded as not directly required: docutils<0.16,>=0.10 in /home/ec2-user/anaconda3/envs/amazonei_tensorflow_p36/lib/python3.6/site-packages (from botocore<1.15.0,>=1.14.9->boto3) (0.14)\n",
      "Requirement not upgraded as not directly required: six>=1.5 in /home/ec2-user/anaconda3/envs/amazonei_tensorflow_p36/lib/python3.6/site-packages (from python-dateutil<3.0.0,>=2.1->botocore<1.15.0,>=1.14.9->boto3) (1.11.0)\n",
      "\u001b[31mawscli 1.17.5 has requirement botocore==1.14.5, but you'll have botocore 1.14.9 which is incompatible.\u001b[0m\n",
      "Installing collected packages: botocore, boto3, pip\n",
      "  Found existing installation: botocore 1.14.5\n",
      "    Uninstalling botocore-1.14.5:\n",
      "      Successfully uninstalled botocore-1.14.5\n",
      "  Found existing installation: boto3 1.11.5\n",
      "    Uninstalling boto3-1.11.5:\n",
      "      Successfully uninstalled boto3-1.11.5\n",
      "  Found existing installation: pip 10.0.1\n",
      "    Uninstalling pip-10.0.1:\n",
      "      Successfully uninstalled pip-10.0.1\n",
      "Successfully installed boto3-1.11.9 botocore-1.14.9 pip-20.0.2\n"
     ]
    }
   ],
   "source": [
    "!pip install --upgrade boto3 pip"
   ]
  },
  {
   "cell_type": "code",
   "execution_count": 19,
   "metadata": {},
   "outputs": [
    {
     "data": {
      "text/html": [
       "<style>.container { width:100% !important; }</style>"
      ],
      "text/plain": [
       "<IPython.core.display.HTML object>"
      ]
     },
     "metadata": {},
     "output_type": "display_data"
    }
   ],
   "source": [
    "%matplotlib inline\n",
    "import boto3\n",
    "import requests\n",
    "import datetime\n",
    "from dateutil.tz import *\n",
    "import pandas as pd\n",
    "import matplotlib.pyplot as plt\n",
    "from matplotlib import rcParams\n",
    "from tqdm.notebook import tqdm as tqdm_notebook\n",
    "from tqdm.notebook import tnrange\n",
    "from IPython.core.display import display, HTML\n",
    "import ipywidgets as widgets\n",
    "display(HTML(\"<style>.container { width:100% !important; }</style>\"))\n",
    "\n",
    "# uncomment the profile_name should you use STS and profiles\n",
    "# You can read more about profiles and STS here \n",
    "# https://docs.aws.amazon.com/cli/latest/userguide/cli-configure-role.html\n",
    "profile_name = \"default\""
   ]
  },
  {
   "cell_type": "code",
   "execution_count": 20,
   "metadata": {},
   "outputs": [
    {
     "data": {
      "application/javascript": [
       "//Some outputs may create large results. This disables the scrolling within jupyter for those. \n",
       "IPython.OutputArea.prototype._should_scroll = function(lines) {\n",
       "    return false;\n",
       "}"
      ],
      "text/plain": [
       "<IPython.core.display.Javascript object>"
      ]
     },
     "metadata": {},
     "output_type": "display_data"
    }
   ],
   "source": [
    "%%javascript\n",
    "//Some outputs may create large results. This disables the scrolling within jupyter for those. \n",
    "IPython.OutputArea.prototype._should_scroll = function(lines) {\n",
    "    return false;\n",
    "}"
   ]
  },
  {
   "cell_type": "markdown",
   "metadata": {},
   "source": [
    "##  Fetching Regions and Instance types\n",
    "\n",
    "The following section queries the regions and then queries which instance types are available in each region. This may take a few seconds up to a minute."
   ]
  },
  {
   "cell_type": "code",
   "execution_count": 21,
   "metadata": {},
   "outputs": [
    {
     "data": {
      "application/vnd.jupyter.widget-view+json": {
       "model_id": "d27e4d3c6683486d867f44f5f594bb24",
       "version_major": 2,
       "version_minor": 0
      },
      "text/plain": [
       "HBox(children=(FloatProgress(value=0.0, max=17.0), HTML(value='')))"
      ]
     },
     "metadata": {},
     "output_type": "display_data"
    },
    {
     "name": "stdout",
     "output_type": "stream",
     "text": [
      "\n"
     ]
    }
   ],
   "source": [
    "def getEC2RegionNames(profile_name=profile_name):\n",
    "    session = boto3.session.Session(profile_name=profile_name)\n",
    "    ec2_client = session.client('ec2')\n",
    "    # exception handling\n",
    "    regions_response = ec2_client.describe_regions()\n",
    "    return [ region['RegionName'] for region in regions_response['Regions']]\n",
    "\n",
    "def getInstanceTypesInRegion(profile_name=profile_name, region='us-east-1'):\n",
    "    session = boto3.session.Session(profile_name=profile_name, region_name=region)\n",
    "    ec2_client = session.client('ec2')\n",
    "    instance_types_offering = ec2_client.describe_instance_type_offerings(LocationType='region')\n",
    "    return [it['InstanceType'] for it in instance_types_offering['InstanceTypeOfferings']]\n",
    "    \n",
    "def getGlobalInstanceTypes(profile_name=profile_name):\n",
    "    regions = getEC2RegionNames()\n",
    "    instance_type_set = set([])\n",
    "    for region in tqdm_notebook(regions):\n",
    "        instances_types = getInstanceTypesInRegion(profile_name=profile_name, region=region)\n",
    "        for instance_type in instances_types:\n",
    "            instance_type_set.add(instance_type)\n",
    "    return instance_type_set\n",
    "\n",
    "regions_to_compare = sorted(getEC2RegionNames(profile_name=profile_name))\n",
    "instances_to_complare = sorted(list(getGlobalInstanceTypes(profile_name=profile_name)))\n",
    "\n",
    "# Add the regions and instances you are interested to explore\n",
    "regions_w = widgets.SelectMultiple(\n",
    "    options=regions_to_compare,\n",
    "    value=regions_to_compare,\n",
    "    description='Region:'\n",
    ")\n",
    "instances_w = widgets.SelectMultiple(\n",
    "    options=instances_to_complare,\n",
    "    value=instances_to_complare,\n",
    "    description='Instance:',\n",
    "    style={'height': str(30*len(instances_to_complare))}\n",
    ")\n",
    "days_back_w = widgets.IntSlider(\n",
    "    value=30,min=1,max=90,step=1,\n",
    "    description='Days back:',\n",
    ")\n",
    "cap_price_w = widgets.BoundedFloatText(\n",
    "    value=1.0,\n",
    "    min=0,\n",
    "    max=40.0,\n",
    "    step=0.01,\n",
    "    description='Max Price',\n",
    "    disabled=False\n",
    ")"
   ]
  },
  {
   "cell_type": "markdown",
   "metadata": {},
   "source": [
    "With all the regions and instance types, we can now provide some filtering option to select which instances types and regions will be considered as well as how far back to look in the spot price history\n",
    "\n",
    "[Since Nov 2017 EC2 pricing model does not use bidding anymore](https://aws.amazon.com/blogs/compute/new-amazon-ec2-spot-pricing/). Some API's may still refer to it that way but the entry for bidding must be now interpreted as a max price to state how much you are willing to spend on a diversified fleet of instance types and families. This will draw a horizontal line in the charts that can help understand which instances/types will be below the max price."
   ]
  },
  {
   "cell_type": "code",
   "execution_count": 28,
   "metadata": {},
   "outputs": [
    {
     "data": {
      "application/vnd.jupyter.widget-view+json": {
       "model_id": "fc7162f835e143c7a2858acf1fc25414",
       "version_major": 2,
       "version_minor": 0
      },
      "text/plain": [
       "HBox(children=(VBox(children=(IntSlider(value=90, description='Days back:', max=90, min=1), BoundedFloatText(v…"
      ]
     },
     "metadata": {},
     "output_type": "display_data"
    }
   ],
   "source": [
    "display(widgets.HBox([widgets.VBox([days_back_w,cap_price_w]), instances_w, regions_w]),style={'height': str(60*len(instances_to_complare)) })"
   ]
  },
  {
   "cell_type": "markdown",
   "metadata": {},
   "source": [
    "## Fetching Spot Historic Prices and building up the data-frames\n",
    "\n",
    "Finally we setup our functions and start making API calls to query EC2 Spot price using the `describe_spot_price_history`.\n",
    "We also define the functions that will plot the final results.\n",
    "\n",
    "**TO-DO** The method can be optimised to search for all the instances within a region and then construct the pandas frame. At the moment is done the other way around, each instance price history is built within it's own pandas frame, re-sampled and then concatenated only when required. This increases the number of calls in the API. This shouldn't be an issue unless a comparison against many many instances is required."
   ]
  },
  {
   "cell_type": "code",
   "execution_count": 29,
   "metadata": {},
   "outputs": [],
   "source": [
    "def paginate(method, **kwargs):\n",
    "    client = method.__self__\n",
    "    paginator = client.get_paginator(method.__name__)\n",
    "    for page in paginator.paginate(**kwargs).result_key_iters():\n",
    "        for item in page:\n",
    "            yield item\n",
    "\n",
    "def fetch_spot_price_history_for_instance_in_region(region, instance, days_back=30, op_sys=\"Linux/UNIX\", profile_name=\"\",resolution='5T'):\n",
    "    session = boto3.session.Session(profile_name=profile_name, region_name=region)\n",
    "    ec2_client = session.client('ec2')\n",
    "    start_time = datetime.datetime.now() - datetime.timedelta(days=days_back)\n",
    "    response = ec2_client.describe_spot_price_history(\n",
    "        InstanceTypes=[instance],\n",
    "        MaxResults=10000,\n",
    "        ProductDescriptions = [op_sys],\n",
    "        StartTime=start_time)\n",
    "    \n",
    "    indices = None\n",
    "    values = []\n",
    "    for resp in paginate(ec2_client.describe_spot_price_history, InstanceTypes=[instance], ProductDescriptions = [op_sys], StartTime=start_time, MaxResults=10000):\n",
    "        if indices is None:\n",
    "            indices = list(resp.keys())\n",
    "        values.append(list(resp.values()))\n",
    "    spot_prices = pd.DataFrame(values,columns=indices)\n",
    "    print(\"Got response for {} {} {}\".format(region, instance, start_time))\n",
    "    spot_prices[\"Timestamp\"] = spot_prices['Timestamp'].astype('datetime64[ns]')\n",
    "    spot_prices.set_index(\"Timestamp\", inplace=True)\n",
    "    spot_prices.tz_localize(tz=tzutc())\n",
    "    spot_prices[\"SpotPrice\"] = spot_prices.SpotPrice.astype(float)\n",
    "    spot_prices.sort_index(inplace=True)\n",
    "    az_df_dict = {az:pd.Series(df['SpotPrice'],name=az) for az,df in spot_prices.groupby(\"AvailabilityZone\")}\n",
    "    spot_prices = pd.concat(list(az_df_dict.values()),axis=1)\n",
    "    spot_prices.loc[pd.Timestamp.now()] = spot_prices.tail(1).copy().iloc[0]\n",
    "    spot_prices.fillna(method='ffill',inplace=True)\n",
    "    spot_prices.fillna(method='bfill',inplace=True)\n",
    "    spot_prices = spot_prices.resample(resolution).ffill()\n",
    "    spot_prices.fillna(method='bfill',inplace=True)\n",
    "    spot_prices.columns = [f'{instance}-{c}' for c in spot_prices]\n",
    "    return spot_prices    \n",
    "\n",
    "def fetch_spot_price_history(regions, instances, days_back=30, op_sys=\"Linux/UNIX\", profile_name=\"\",resolution='5T'):\n",
    "    ret = {}\n",
    "    for region in tqdm_notebook(regions):\n",
    "        ret[region] = {}\n",
    "        for instance in tqdm_notebook(instances):\n",
    "            try:\n",
    "                ret[region][instance] = fetch_spot_price_history_for_instance_in_region(region, instance, days_back=days_back, op_sys=op_sys, profile_name=profile_name, resolution=resolution)\n",
    "            except Exception as error:\n",
    "                #print(\"Got error when fetching {} on region {} : {}\".format(instance, region, error))\n",
    "                pass\n",
    "    return ret\n",
    "\n",
    "def plot_spot_prices_grid(bid_price, spot_prices_dict,instances_w,regions_w):\n",
    "    region_x_pos = 0\n",
    "    fig, ax = plt.subplots(len(instances_w.value),len(regions_w.value),sharex='all', sharey='all',figsize=[24,4],squeeze=False)\n",
    "    plt.subplots_adjust(bottom=1,top=5)\n",
    "    for region_name, inst_dic in spot_prices_dict.items():\n",
    "        instance_y_pos = 0\n",
    "        for instance_name, spot_price_df in inst_dic.items():\n",
    "            spot_price_df.plot(ax=ax[instance_y_pos, region_x_pos])\n",
    "            ax[instance_y_pos, region_x_pos].set_title(\"{} {}\".format(region_name, instance_name))\n",
    "            ax[instance_y_pos, region_x_pos].axhline(y=bid_price,linewidth=3, color='black')\n",
    "            ax[instance_y_pos, region_x_pos].minorticks_on()\n",
    "            ax[instance_y_pos, region_x_pos].grid(which='major', linestyle=':', linewidth='0.1',color='black')\n",
    "            instance_y_pos += 1\n",
    "        region_x_pos += 1\n",
    "\n",
    "def plot_spot_aggregated_by_region(bid_price, spot_prices_dict,instances_w,regions_w, legend=True):\n",
    "    region_x_pos = 0\n",
    "    fig, ax = plt.subplots(1,len(regions_w.value), sharex='all', sharey='all',figsize=[30,16],squeeze=False)\n",
    "    for region_name, inst_dic in spot_prices_dict.items():\n",
    "        if len(inst_dic.items())==0:\n",
    "            continue\n",
    "        spot_history = pd.concat([v for k,v in inst_dic.items()],sort=False)\n",
    "        spot_history = spot_history.resample('5T')\n",
    "        spot_history = spot_history.apply(lambda x: x.fillna(method='ffill'))\n",
    "        spot_history = spot_history.apply(lambda x: x.fillna(method='bfill'))    \n",
    "        spot_history.plot(ax=ax[0, region_x_pos])\n",
    "        ax[0,region_x_pos].set_title(\"{}\".format(region_name))\n",
    "        ax[0,region_x_pos].axhline(y=bid_price,linewidth=3, color='black')\n",
    "        ax[0,region_x_pos].minorticks_on()        \n",
    "        ax[0,region_x_pos].grid(which='major', linestyle=':', linewidth='0.1',color='black')\n",
    "        if not legend:\n",
    "            ax[0,region_x_pos].get_legend().remove()\n",
    "        region_x_pos += 1"
   ]
  },
  {
   "cell_type": "code",
   "execution_count": 30,
   "metadata": {},
   "outputs": [
    {
     "data": {
      "application/vnd.jupyter.widget-view+json": {
       "model_id": "f28a9decb2724b3a8121b5b804c34d1e",
       "version_major": 2,
       "version_minor": 0
      },
      "text/plain": [
       "HBox(children=(FloatProgress(value=0.0, max=3.0), HTML(value='')))"
      ]
     },
     "metadata": {},
     "output_type": "display_data"
    },
    {
     "data": {
      "application/vnd.jupyter.widget-view+json": {
       "model_id": "b57a186159f3478a8b37f85a726d7ff1",
       "version_major": 2,
       "version_minor": 0
      },
      "text/plain": [
       "HBox(children=(FloatProgress(value=0.0, max=25.0), HTML(value='')))"
      ]
     },
     "metadata": {},
     "output_type": "display_data"
    },
    {
     "name": "stdout",
     "output_type": "stream",
     "text": [
      "Got response for eu-west-1 c5.12xlarge 2019-11-06 00:16:47.499383\n",
      "Got response for eu-west-1 c5.18xlarge 2019-11-06 00:16:47.867936\n",
      "Got response for eu-west-1 c5.24xlarge 2019-11-06 00:16:48.231741\n",
      "Got response for eu-west-1 c5.2xlarge 2019-11-06 00:16:48.696272\n",
      "Got response for eu-west-1 c5.4xlarge 2019-11-06 00:16:49.381852\n",
      "Got response for eu-west-1 c5.9xlarge 2019-11-06 00:16:50.174614\n",
      "Got response for eu-west-1 c5.large 2019-11-06 00:16:50.809639\n",
      "Got response for eu-west-1 c5.metal 2019-11-06 00:16:51.351386\n",
      "Got response for eu-west-1 c5.xlarge 2019-11-06 00:16:51.720109\n",
      "Got response for eu-west-1 c5d.12xlarge 2019-11-06 00:16:52.222064\n",
      "Got response for eu-west-1 c5d.18xlarge 2019-11-06 00:16:52.669800\n",
      "Got response for eu-west-1 c5d.24xlarge 2019-11-06 00:16:53.066257\n",
      "Got response for eu-west-1 c5d.2xlarge 2019-11-06 00:16:53.427496\n",
      "Got response for eu-west-1 c5d.4xlarge 2019-11-06 00:16:53.987707\n",
      "Got response for eu-west-1 c5d.9xlarge 2019-11-06 00:16:54.910079\n",
      "Got response for eu-west-1 c5d.large 2019-11-06 00:16:55.515786\n",
      "Got response for eu-west-1 c5d.metal 2019-11-06 00:16:55.913981\n",
      "Got response for eu-west-1 c5d.xlarge 2019-11-06 00:16:56.306529\n",
      "Got response for eu-west-1 c5n.18xlarge 2019-11-06 00:16:57.014238\n",
      "Got response for eu-west-1 c5n.2xlarge 2019-11-06 00:16:57.374623\n",
      "Got response for eu-west-1 c5n.4xlarge 2019-11-06 00:16:57.968896\n",
      "Got response for eu-west-1 c5n.9xlarge 2019-11-06 00:16:58.770977\n",
      "Got response for eu-west-1 c5n.large 2019-11-06 00:16:59.211545\n",
      "Got response for eu-west-1 c5n.metal 2019-11-06 00:16:59.581207\n",
      "Got response for eu-west-1 c5n.xlarge 2019-11-06 00:16:59.951643\n",
      "\n"
     ]
    },
    {
     "data": {
      "application/vnd.jupyter.widget-view+json": {
       "model_id": "c637ce46ed4a4092823776d35a13c20c",
       "version_major": 2,
       "version_minor": 0
      },
      "text/plain": [
       "HBox(children=(FloatProgress(value=0.0, max=25.0), HTML(value='')))"
      ]
     },
     "metadata": {},
     "output_type": "display_data"
    },
    {
     "name": "stdout",
     "output_type": "stream",
     "text": [
      "Got response for eu-west-2 c5.12xlarge 2019-11-06 00:17:00.698891\n",
      "Got response for eu-west-2 c5.18xlarge 2019-11-06 00:17:01.277955\n",
      "Got response for eu-west-2 c5.24xlarge 2019-11-06 00:17:01.976414\n",
      "Got response for eu-west-2 c5.2xlarge 2019-11-06 00:17:02.588662\n",
      "Got response for eu-west-2 c5.4xlarge 2019-11-06 00:17:03.377013\n",
      "Got response for eu-west-2 c5.9xlarge 2019-11-06 00:17:03.859560\n",
      "Got response for eu-west-2 c5.large 2019-11-06 00:17:04.437389\n",
      "Got response for eu-west-2 c5.metal 2019-11-06 00:17:04.945210\n",
      "Got response for eu-west-2 c5.xlarge 2019-11-06 00:17:05.490310\n",
      "Got response for eu-west-2 c5d.12xlarge 2019-11-06 00:17:06.119997\n",
      "Got response for eu-west-2 c5d.18xlarge 2019-11-06 00:17:06.632181\n",
      "Got response for eu-west-2 c5d.24xlarge 2019-11-06 00:17:07.137775\n",
      "Got response for eu-west-2 c5d.2xlarge 2019-11-06 00:17:07.758545\n",
      "Got response for eu-west-2 c5d.4xlarge 2019-11-06 00:17:08.262900\n",
      "Got response for eu-west-2 c5d.9xlarge 2019-11-06 00:17:08.792197\n",
      "Got response for eu-west-2 c5d.large 2019-11-06 00:17:09.371546\n",
      "Got response for eu-west-2 c5d.metal 2019-11-06 00:17:09.892905\n",
      "Got response for eu-west-2 c5d.xlarge 2019-11-06 00:17:10.386192\n",
      "Got response for eu-west-2 c5n.18xlarge 2019-11-06 00:17:10.995417\n",
      "Got response for eu-west-2 c5n.2xlarge 2019-11-06 00:17:11.202887\n",
      "Got response for eu-west-2 c5n.4xlarge 2019-11-06 00:17:11.429347\n",
      "Got response for eu-west-2 c5n.9xlarge 2019-11-06 00:17:11.646960\n",
      "Got response for eu-west-2 c5n.large 2019-11-06 00:17:11.864791\n",
      "Got response for eu-west-2 c5n.metal 2019-11-06 00:17:12.175881\n",
      "Got response for eu-west-2 c5n.xlarge 2019-11-06 00:17:12.381606\n",
      "\n"
     ]
    },
    {
     "data": {
      "application/vnd.jupyter.widget-view+json": {
       "model_id": "c4a95b0c97e647f7a157e5c00313288b",
       "version_major": 2,
       "version_minor": 0
      },
      "text/plain": [
       "HBox(children=(FloatProgress(value=0.0, max=25.0), HTML(value='')))"
      ]
     },
     "metadata": {},
     "output_type": "display_data"
    },
    {
     "name": "stdout",
     "output_type": "stream",
     "text": [
      "Got response for eu-west-3 c5.12xlarge 2019-11-06 00:17:12.643910\n",
      "Got response for eu-west-3 c5.18xlarge 2019-11-06 00:17:13.294106\n",
      "Got response for eu-west-3 c5.24xlarge 2019-11-06 00:17:14.041514\n",
      "Got response for eu-west-3 c5.2xlarge 2019-11-06 00:17:14.719188\n",
      "Got response for eu-west-3 c5.4xlarge 2019-11-06 00:17:15.940977\n",
      "Got response for eu-west-3 c5.9xlarge 2019-11-06 00:17:16.396322\n",
      "Got response for eu-west-3 c5.large 2019-11-06 00:17:17.130511\n",
      "Got response for eu-west-3 c5.metal 2019-11-06 00:17:18.022731\n",
      "Got response for eu-west-3 c5.xlarge 2019-11-06 00:17:18.713609\n",
      "Got response for eu-west-3 c5d.12xlarge 2019-11-06 00:17:19.483251\n",
      "Got response for eu-west-3 c5d.18xlarge 2019-11-06 00:17:19.834644\n",
      "Got response for eu-west-3 c5d.24xlarge 2019-11-06 00:17:20.400449\n",
      "Got response for eu-west-3 c5d.2xlarge 2019-11-06 00:17:20.641871\n",
      "Got response for eu-west-3 c5d.4xlarge 2019-11-06 00:17:21.318419\n",
      "Got response for eu-west-3 c5d.9xlarge 2019-11-06 00:17:21.892494\n",
      "Got response for eu-west-3 c5d.large 2019-11-06 00:17:22.483317\n",
      "Got response for eu-west-3 c5d.metal 2019-11-06 00:17:23.149574\n",
      "Got response for eu-west-3 c5d.xlarge 2019-11-06 00:17:23.474315\n",
      "Got response for eu-west-3 c5n.18xlarge 2019-11-06 00:17:24.196465\n",
      "Got response for eu-west-3 c5n.2xlarge 2019-11-06 00:17:24.442417\n",
      "Got response for eu-west-3 c5n.4xlarge 2019-11-06 00:17:24.769067\n",
      "Got response for eu-west-3 c5n.9xlarge 2019-11-06 00:17:25.007623\n",
      "Got response for eu-west-3 c5n.large 2019-11-06 00:17:25.249212\n",
      "Got response for eu-west-3 c5n.metal 2019-11-06 00:17:25.481654\n",
      "Got response for eu-west-3 c5n.xlarge 2019-11-06 00:17:25.718959\n",
      "\n",
      "\n"
     ]
    }
   ],
   "source": [
    "spot_prices_dict = fetch_spot_price_history(\n",
    "    regions=regions_w.value, \n",
    "    instances=instances_w.value,\n",
    "    days_back=days_back_w.value,\n",
    "    profile_name=profile_name)"
   ]
  },
  {
   "cell_type": "markdown",
   "metadata": {},
   "source": [
    "## Plotting Spot price - Individual pools\n",
    "\n",
    "`spot_prices_dict` does now contain a nested dictionary with regions and instance types as well as the EC2 Spot historic price of each ready to be explored.\n",
    "\n",
    "Spot price can be display in multiple forms depending which type of aggregation we would like to apply\n",
    "Let's apply first no grouping and just iterate over every region and every instance (every column shows a region and every row an instance). Axis are shared to allow for easy comparison."
   ]
  },
  {
   "cell_type": "code",
   "execution_count": null,
   "metadata": {},
   "outputs": [],
   "source": [
    "plot_spot_prices_grid(cap_price_w.value, spot_prices_dict,instances_w,regions_w)"
   ]
  },
  {
   "cell_type": "markdown",
   "metadata": {},
   "source": [
    "## Plotting Spot price - by Region\n",
    "Now let's Iterates over every region and groups all the instance types within the same region."
   ]
  },
  {
   "cell_type": "code",
   "execution_count": null,
   "metadata": {},
   "outputs": [],
   "source": [
    "plot_spot_aggregated_by_region(cap_price_w.value,spot_prices_dict,instances_w,regions_w, legend=True)"
   ]
  }
 ],
 "metadata": {
  "kernelspec": {
   "display_name": "conda_amazonei_tensorflow_p36",
   "language": "python",
   "name": "conda_amazonei_tensorflow_p36"
  },
  "language_info": {
   "codemirror_mode": {
    "name": "ipython",
    "version": 3
   },
   "file_extension": ".py",
   "mimetype": "text/x-python",
   "name": "python",
   "nbconvert_exporter": "python",
   "pygments_lexer": "ipython3",
   "version": "3.6.5"
  },
  "varInspector": {
   "cols": {
    "lenName": 16,
    "lenType": 16,
    "lenVar": 40
   },
   "kernels_config": {
    "python": {
     "delete_cmd_postfix": "",
     "delete_cmd_prefix": "del ",
     "library": "var_list.py",
     "varRefreshCmd": "print(var_dic_list())"
    },
    "r": {
     "delete_cmd_postfix": ") ",
     "delete_cmd_prefix": "rm(",
     "library": "var_list.r",
     "varRefreshCmd": "cat(var_dic_list()) "
    }
   },
   "types_to_exclude": [
    "module",
    "function",
    "builtin_function_or_method",
    "instance",
    "_Feature"
   ],
   "window_display": false
  }
 },
 "nbformat": 4,
 "nbformat_minor": 2
}
