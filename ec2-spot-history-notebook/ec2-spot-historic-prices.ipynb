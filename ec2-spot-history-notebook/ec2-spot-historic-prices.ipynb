{
 "cells": [
  {
   "cell_type": "markdown",
   "metadata": {},
   "source": [
    "# EC2 Spot diversification and price history\n",
    "\n",
    "* **Author:** Carlos Manzanedo Rueda <ruecarlo@amazon.com>\n",
    "* **License:** This notebook is released under [Apache v2.0 License](https://www.apache.org/licenses/LICENSE-2.0.txt)\n",
    "\n",
    "\n",
    "This jupyter notebook uses pandas and matplotlib to plot EC2 Spot historic price changes for comparison across different regions, family and instance sizes. \n",
    "\n",
    "The code is intended as an example of how to explore EC2 Spot historic prices. Perhaps it's obvious, but please note that historic EC2 price does not define future spot market behaviours!\n",
    "\n",
    "When constructing a strong and EC2 Fleet, Spot Fleet or Auto Scaling Groups two of the main best practices are: (a) flexibility and (b) diversification. This jupyter notebook allows to visualise changes in the EC2 Spot historic price across regions and instance types. History goes back 3 months (EC2 Spot history API limit). This notebook intends to convey an intuition of why implementing diversification is so important with EC2 Spot as well as helping to compare different instance types and families across regions."
   ]
  },
  {
   "cell_type": "code",
   "execution_count": null,
   "metadata": {},
   "outputs": [],
   "source": [
    "!pip install --upgrade pandas tqdm boto3 pandas matplotlib"
   ]
  },
  {
   "cell_type": "code",
   "execution_count": null,
   "metadata": {},
   "outputs": [],
   "source": [
    "%matplotlib inline\n",
    "import boto3\n",
    "import requests\n",
    "import datetime\n",
    "from dateutil.tz import *\n",
    "import pandas as pd\n",
    "import matplotlib.pyplot as plt\n",
    "from matplotlib import rcParams\n",
    "from tqdm.notebook import tqdm as tqdm_notebook\n",
    "from tqdm.notebook import tnrange\n",
    "from IPython.core.display import display, HTML\n",
    "import ipywidgets as widgets\n",
    "display(HTML(\"<style>.container { width:100% !important; }</style>\"))\n",
    "\n",
    "## Current version of pandas and matplotlib throw a few warnings\n",
    "## Next version of pandas should remove those\n",
    "import warnings\n",
    "warnings.filterwarnings('ignore')\n",
    "\n",
    "# uncomment the profile_name should you use STS and profiles\n",
    "# You can read more about profiles and STS here \n",
    "# https://docs.aws.amazon.com/cli/latest/userguide/cli-configure-role.html\n",
    "profile_name = \"default\""
   ]
  },
  {
   "cell_type": "code",
   "execution_count": null,
   "metadata": {},
   "outputs": [],
   "source": [
    "%%javascript\n",
    "//Some outputs may create large results. This disables the scrolling within jupyter for those. \n",
    "IPython.OutputArea.prototype._should_scroll = function(lines) {\n",
    "    return false;\n",
    "}"
   ]
  },
  {
   "cell_type": "markdown",
   "metadata": {},
   "source": [
    "##  Fetching Regions and Instance types\n",
    "\n",
    "The following section queries the regions and then queries which instance types are available in each region. This may take a few seconds up to a minute."
   ]
  },
  {
   "cell_type": "code",
   "execution_count": null,
   "metadata": {},
   "outputs": [],
   "source": [
    "def getEC2RegionNames(profile_name=profile_name):\n",
    "    session = boto3.session.Session(profile_name=profile_name)\n",
    "    ec2_client = session.client('ec2')\n",
    "    # exception handling\n",
    "    regions_response = ec2_client.describe_regions()\n",
    "    return [ region['RegionName'] for region in regions_response['Regions']]\n",
    "\n",
    "def getInstanceTypesInRegion(profile_name=profile_name, region='us-east-1'):\n",
    "    session = boto3.session.Session(profile_name=profile_name, region_name=region)\n",
    "    ec2_client = session.client('ec2')\n",
    "    instance_types_offering = ec2_client.describe_instance_type_offerings(LocationType='region')\n",
    "    return [it['InstanceType'] for it in instance_types_offering['InstanceTypeOfferings']]\n",
    "    \n",
    "def getGlobalInstanceTypes(profile_name=profile_name):\n",
    "    regions = getEC2RegionNames()\n",
    "    instance_type_set = set([])\n",
    "    for region in tqdm_notebook(regions):\n",
    "        instances_types = getInstanceTypesInRegion(profile_name=profile_name, region=region)\n",
    "        for instance_type in instances_types:\n",
    "            instance_type_set.add(instance_type)\n",
    "    return instance_type_set\n",
    "\n",
    "regions_to_compare = sorted(getEC2RegionNames(profile_name=profile_name))\n",
    "instances_to_complare = sorted(list(getGlobalInstanceTypes(profile_name=profile_name)))\n",
    "\n",
    "# Add the regions and instances you are interested to explore\n",
    "regions_w = widgets.SelectMultiple(\n",
    "    options=regions_to_compare,\n",
    "    value=regions_to_compare,\n",
    "    description='Region:'\n",
    ")\n",
    "instances_w = widgets.SelectMultiple(\n",
    "    options=instances_to_complare,\n",
    "    value=instances_to_complare,\n",
    "    description='Instance:',\n",
    "    style={'height': str(30*len(instances_to_complare))}\n",
    ")\n",
    "days_back_w = widgets.IntSlider(\n",
    "    value=30,min=1,max=90,step=1,\n",
    "    description='Days back:',\n",
    ")\n",
    "cap_price_w = widgets.BoundedFloatText(\n",
    "    value=1.0,\n",
    "    min=0,\n",
    "    max=40.0,\n",
    "    step=0.01,\n",
    "    description='Max Price',\n",
    "    disabled=False\n",
    ")"
   ]
  },
  {
   "cell_type": "markdown",
   "metadata": {},
   "source": [
    "With all the regions and instance types, we can now provide some filtering option to select which instances types and regions will be considered as well as how far back to look in the spot price history\n",
    "\n",
    "[Since Nov 2017 EC2 pricing model does not use bidding anymore](https://aws.amazon.com/blogs/compute/new-amazon-ec2-spot-pricing/). Some API's may still refer to it that way but the entry for bidding must be now interpreted as a max price to state how much you are willing to spend on a diversified fleet of instance types and families. This will draw a horizontal line in the charts that can help understand which instances/types will be below the max price."
   ]
  },
  {
   "cell_type": "code",
   "execution_count": null,
   "metadata": {},
   "outputs": [],
   "source": [
    "display(widgets.HBox([widgets.VBox([days_back_w,cap_price_w]), instances_w, regions_w]),style={'height': str(60*len(instances_to_complare)) })"
   ]
  },
  {
   "cell_type": "markdown",
   "metadata": {},
   "source": [
    "## Fetching Spot Historic Prices and building up the data-frames\n",
    "\n",
    "Finally we setup our functions and start making API calls to query EC2 Spot price using the `describe_spot_price_history`.\n",
    "We also define the functions that will plot the final results.\n",
    "\n",
    "**TO-DO** The method can be optimised to search for all the instances within a region and then construct the pandas frame. At the moment is done the other way around, each instance price history is built within it's own pandas frame, re-sampled and then concatenated only when required. This increases the number of calls in the API. This shouldn't be an issue unless a comparison against many many instances is required."
   ]
  },
  {
   "cell_type": "code",
   "execution_count": null,
   "metadata": {},
   "outputs": [],
   "source": [
    "def paginate(method, **kwargs):\n",
    "    client = method.__self__\n",
    "    paginator = client.get_paginator(method.__name__)\n",
    "    for page in paginator.paginate(**kwargs).result_key_iters():\n",
    "        for item in page:\n",
    "            yield item\n",
    "\n",
    "def fetch_spot_price_history_for_instance_in_region(region, instance, days_back=30, op_sys=\"Linux/UNIX\", profile_name=\"\",resolution='5T'):\n",
    "    session = boto3.session.Session(profile_name=profile_name, region_name=region)\n",
    "    ec2_client = session.client('ec2')\n",
    "    start_time = datetime.datetime.now() - datetime.timedelta(days=days_back)\n",
    "    response = ec2_client.describe_spot_price_history(\n",
    "        InstanceTypes=[instance],\n",
    "        MaxResults=10000,\n",
    "        ProductDescriptions = [op_sys],\n",
    "        StartTime=start_time)\n",
    "    \n",
    "    indices = None\n",
    "    values = []\n",
    "    for resp in paginate(ec2_client.describe_spot_price_history, InstanceTypes=[instance], ProductDescriptions = [op_sys], StartTime=start_time, MaxResults=10000):\n",
    "        if indices is None:\n",
    "            indices = list(resp.keys())\n",
    "        values.append(list(resp.values()))\n",
    "    spot_prices = pd.DataFrame(values,columns=indices)\n",
    "    print(\"Got response for {} {} {}\".format(region, instance, start_time))\n",
    "    spot_prices[\"Timestamp\"] = spot_prices['Timestamp'].astype('datetime64[ns]')\n",
    "    spot_prices.set_index(\"Timestamp\", inplace=True)\n",
    "    spot_prices.tz_localize(tz=tzutc())\n",
    "    spot_prices[\"SpotPrice\"] = spot_prices.SpotPrice.astype(float)\n",
    "    spot_prices.sort_index(inplace=True)\n",
    "    az_df_dict = {az:pd.Series(df['SpotPrice'],name=az) for az,df in spot_prices.groupby(\"AvailabilityZone\")}\n",
    "    spot_prices = pd.concat(list(az_df_dict.values()),axis=1)\n",
    "    spot_prices.loc[pd.Timestamp.now()] = spot_prices.tail(1).copy().iloc[0]\n",
    "    spot_prices.fillna(method='ffill',inplace=True)\n",
    "    spot_prices.fillna(method='bfill',inplace=True)\n",
    "    spot_prices = spot_prices.resample(resolution).ffill()\n",
    "    spot_prices.fillna(method='bfill',inplace=True)\n",
    "    spot_prices.columns = [f'{instance}-{c}' for c in spot_prices]\n",
    "    return spot_prices    \n",
    "\n",
    "def fetch_spot_price_history(regions, instances, days_back=30, op_sys=\"Linux/UNIX\", profile_name=\"\",resolution='5T'):\n",
    "    ret = {}\n",
    "    for region in tqdm_notebook(regions):\n",
    "        ret[region] = {}\n",
    "        for instance in tqdm_notebook(instances):\n",
    "            try:\n",
    "                ret[region][instance] = fetch_spot_price_history_for_instance_in_region(region, instance, days_back=days_back, op_sys=op_sys, profile_name=profile_name, resolution=resolution)\n",
    "            except Exception as error:\n",
    "                #print(\"Got error when fetching {} on region {} : {}\".format(instance, region, error))\n",
    "                pass\n",
    "    return ret\n",
    "\n",
    "def plot_spot_prices_grid(bid_price, spot_prices_dict,instances_w,regions_w):\n",
    "    region_x_pos = 0\n",
    "    fig, ax = plt.subplots(len(instances_w.value),len(regions_w.value),sharex='all', sharey='all',figsize=[24,4],squeeze=False)\n",
    "    plt.subplots_adjust(bottom=1,top=5)\n",
    "    for region_name, inst_dic in spot_prices_dict.items():\n",
    "        instance_y_pos = 0\n",
    "        for instance_name, spot_price_df in inst_dic.items():\n",
    "            spot_price_df.plot(ax=ax[instance_y_pos, region_x_pos])\n",
    "            ax[instance_y_pos, region_x_pos].set_title(\"{} {}\".format(region_name, instance_name))\n",
    "            ax[instance_y_pos, region_x_pos].axhline(y=bid_price,linewidth=3, color='black')\n",
    "            ax[instance_y_pos, region_x_pos].minorticks_on()\n",
    "            ax[instance_y_pos, region_x_pos].grid(which='major', linestyle=':', linewidth='0.1',color='black')\n",
    "            instance_y_pos += 1\n",
    "        region_x_pos += 1\n",
    "\n",
    "def plot_spot_aggregated_by_region(bid_price, spot_prices_dict,instances_w,regions_w, legend=True):\n",
    "    region_x_pos = 0\n",
    "    fig, ax = plt.subplots(1,len(regions_w.value), sharex='all', sharey='all',figsize=[30,16],squeeze=False)\n",
    "    for region_name, inst_dic in spot_prices_dict.items():\n",
    "        if len(inst_dic.items())==0:\n",
    "            continue\n",
    "        spot_history = pd.concat([v for k,v in inst_dic.items()],sort=False)\n",
    "        spot_history = spot_history.resample('5T')\n",
    "        spot_history = spot_history.apply(lambda x: x.fillna(method='ffill'))\n",
    "        spot_history = spot_history.apply(lambda x: x.fillna(method='bfill'))    \n",
    "        spot_history.plot(ax=ax[0, region_x_pos])\n",
    "        ax[0,region_x_pos].set_title(\"{}\".format(region_name))\n",
    "        ax[0,region_x_pos].axhline(y=bid_price,linewidth=3, color='black')\n",
    "        ax[0,region_x_pos].minorticks_on()        \n",
    "        ax[0,region_x_pos].grid(which='major', linestyle=':', linewidth='0.1',color='black')\n",
    "        if not legend:\n",
    "            ax[0,region_x_pos].get_legend().remove()\n",
    "        region_x_pos += 1"
   ]
  },
  {
   "cell_type": "code",
   "execution_count": null,
   "metadata": {},
   "outputs": [],
   "source": [
    "spot_prices_dict = fetch_spot_price_history(\n",
    "    regions=regions_w.value, \n",
    "    instances=instances_w.value,\n",
    "    days_back=days_back_w.value,\n",
    "    profile_name=profile_name)"
   ]
  },
  {
   "cell_type": "markdown",
   "metadata": {},
   "source": [
    "## Plotting Spot price - Individual pools\n",
    "\n",
    "`spot_prices_dict` does now contain a nested dictionary with regions and instance types as well as the EC2 Spot historic price of each ready to be explored.\n",
    "\n",
    "Spot price can be display in multiple forms depending which type of aggregation we would like to apply\n",
    "Let's apply first no grouping and just iterate over every region and every instance (every column shows a region and every row an instance). Axis are shared to allow for easy comparison."
   ]
  },
  {
   "cell_type": "code",
   "execution_count": null,
   "metadata": {},
   "outputs": [],
   "source": [
    "plot_spot_prices_grid(cap_price_w.value, spot_prices_dict,instances_w,regions_w)"
   ]
  },
  {
   "cell_type": "markdown",
   "metadata": {},
   "source": [
    "## Plotting Spot price - by Region\n",
    "Now let's Iterates over every region and groups all the instance types within the same region."
   ]
  },
  {
   "cell_type": "code",
   "execution_count": null,
   "metadata": {},
   "outputs": [],
   "source": [
    "plot_spot_aggregated_by_region(cap_price_w.value,spot_prices_dict,instances_w,regions_w, legend=True)"
   ]
  },
  {
   "cell_type": "markdown",
   "metadata": {},
   "source": [
    "## Storing the info into xlsx files\n",
    "\n",
    "Finally, if you are interested on dumping all the inputs in an excel spreadsheet or similar, the following section will create a excel file for each region with tabs for each instance tab selected. You will be able to download it from jupyter. The files have been created on the same directory you are running the current notebook."
   ]
  },
  {
   "cell_type": "code",
   "execution_count": null,
   "metadata": {},
   "outputs": [],
   "source": [
    "for region, region_dict in tqdm_notebook(spot_prices_dict.items()):\n",
    "    excel_writer = pd.ExcelWriter(\"spot_prices-region-{}.xlsx\".format(region), engine='xlsxwriter')\n",
    "    for instance_type, spot_prices_pd in tqdm_notebook(region_dict.items()):\n",
    "        spot_prices_pd.to_excel(excel_writer, sheet_name=\"{}\".format(instance_type))\n",
    "    excel_writer.save()"
   ]
  },
  {
   "cell_type": "code",
   "execution_count": null,
   "metadata": {},
   "outputs": [],
   "source": []
  }
 ],
 "metadata": {
  "kernelspec": {
   "display_name": "conda_tensorflow_p36",
   "language": "python",
   "name": "conda_tensorflow_p36"
  },
  "language_info": {
   "codemirror_mode": {
    "name": "ipython",
    "version": 3
   },
   "file_extension": ".py",
   "mimetype": "text/x-python",
   "name": "python",
   "nbconvert_exporter": "python",
   "pygments_lexer": "ipython3",
   "version": "3.6.10"
  }
 },
 "nbformat": 4,
 "nbformat_minor": 4
}
